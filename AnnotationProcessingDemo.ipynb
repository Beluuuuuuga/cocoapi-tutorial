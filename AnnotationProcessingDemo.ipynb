{
 "cells": [
  {
   "cell_type": "markdown",
   "id": "7f9b308a",
   "metadata": {},
   "source": [
    "# Download annotation"
   ]
  },
  {
   "cell_type": "code",
   "execution_count": 7,
   "id": "17594f57",
   "metadata": {},
   "outputs": [
    {
     "name": "stdout",
     "output_type": "stream",
     "text": [
      "--2022-05-31 01:48:51--  http://images.cocodataset.org/annotations/annotations_trainval2017.zip\n",
      "Resolving images.cocodataset.org (images.cocodataset.org)... 52.216.43.9\n",
      "Connecting to images.cocodataset.org (images.cocodataset.org)|52.216.43.9|:80... connected.\n",
      "HTTP request sent, awaiting response... 416 Requested Range Not Satisfiable\n",
      "\n",
      "    The file is already fully retrieved; nothing to do.\n",
      "\n"
     ]
    }
   ],
   "source": [
    "!wget -c http://images.cocodataset.org/annotations/annotations_trainval2017.zip\n",
    "!unzip -o annotations_trainval2017.zip\n",
    "!ls"
   ]
  },
  {
   "cell_type": "code",
   "execution_count": 15,
   "id": "4c027c57",
   "metadata": {},
   "outputs": [
    {
     "name": "stdout",
     "output_type": "stream",
     "text": [
      "captions_train2017.json   instances_val2017.json\r\n",
      "captions_val2017.json\t  person_keypoints_train2017.json\r\n",
      "instances_train2017.json  person_keypoints_val2017.json\r\n"
     ]
    }
   ],
   "source": [
    "!ls annotations"
   ]
  },
  {
   "cell_type": "markdown",
   "id": "7b6fd1e8",
   "metadata": {},
   "source": [
    "# Introduce annotation API\n",
    "\n",
    "## Initialize COCO"
   ]
  },
  {
   "cell_type": "code",
   "execution_count": 13,
   "id": "618223ae",
   "metadata": {},
   "outputs": [],
   "source": [
    "from pycocotools.coco import COCO"
   ]
  },
  {
   "cell_type": "markdown",
   "id": "81e32f54",
   "metadata": {},
   "source": [
    "<span style=\"color: DodgerBlue; \">For creating COCO instance, initialize by annotation json path, not by loaded annotation json file.</span>\n",
    "\n",
    "<span style=\"color: DodgerBlue; \">This can be seen in lines 70 to 88 of coco.py.</span>\n",
    "\n",
    "\n",
    "https://github.com/cocodataset/cocoapi/blob/8c9bcc3cf640524c4c20a9c40e89cb6a2f2fa0e9/PythonAPI/pycocotools/coco.py#L70-L88\n",
    "\n",
    "```py\n",
    "class COCO:\n",
    "    def __init__(self, annotation_file=None):\n",
    "        \"\"\"\n",
    "        Constructor of Microsoft COCO helper class for reading and visualizing annotations.\n",
    "        :param annotation_file (str): location of annotation file\n",
    "        :param image_folder (str): location to the folder that hosts images.\n",
    "        :return:\n",
    "        \"\"\"\n",
    "        # load dataset\n",
    "        self.dataset,self.anns,self.cats,self.imgs = dict(),dict(),dict(),dict()\n",
    "        self.imgToAnns, self.catToImgs = defaultdict(list), defaultdict(list)\n",
    "        if not annotation_file == None:\n",
    "            print('loading annotations into memory...')\n",
    "            tic = time.time()\n",
    "            dataset = json.load(open(annotation_file, 'r'))\n",
    "            assert type(dataset)==dict, 'annotation file format {} not supported'.format(type(dataset))\n",
    "            print('Done (t={:0.2f}s)'.format(time.time()- tic))\n",
    "            self.dataset = dataset\n",
    "            self.createIndex()\n",
    "```"
   ]
  },
  {
   "cell_type": "code",
   "execution_count": 18,
   "id": "a362801c",
   "metadata": {},
   "outputs": [
    {
     "name": "stdout",
     "output_type": "stream",
     "text": [
      "loading annotations into memory...\n",
      "Done (t=1.13s)\n",
      "creating index...\n",
      "index created!\n"
     ]
    }
   ],
   "source": [
    "# Initialize COCO instance with annotation file path\n",
    "annotation_file_path = \"annotations/instances_val2017.json\"\n",
    "coco = COCO(annotation_file_path)"
   ]
  },
  {
   "cell_type": "markdown",
   "id": "ba3b5262",
   "metadata": {},
   "source": [
    "\n",
    "<span style=\"color: DodgerBlue; \">It can be initialized without annotation file paths as can be seen in lines 70 to 88 of coco.py.</span>\n",
    "\n",
    "<span style=\"color: DodgerBlue; \">This is used during COCO instantiation of the predicted values in the loadRes() method and can be seen in lines 305 to 312 of coco.py.</span>\n",
    "\n",
    "https://github.com/cocodataset/cocoapi/blob/8c9bcc3cf640524c4c20a9c40e89cb6a2f2fa0e9/PythonAPI/pycocotools/coco.py#L305-L312\n",
    "\n",
    "\n",
    "```py\n",
    "    def loadRes(self, resFile):\n",
    "        \"\"\"\n",
    "        Load result file and return a result api object.\n",
    "        :param   resFile (str)     : file name of result file\n",
    "        :return: res (obj)         : result api object\n",
    "        \"\"\"\n",
    "        res = COCO()\n",
    "        res.dataset['images'] = [img for img in self.dataset['images']]\n",
    "```"
   ]
  },
  {
   "cell_type": "code",
   "execution_count": 19,
   "id": "0cbca5fb",
   "metadata": {},
   "outputs": [],
   "source": [
    "# Initialize COCO instance without annotation file path\n",
    "coco_without_path = COCO()"
   ]
  },
  {
   "cell_type": "code",
   "execution_count": null,
   "id": "7983a423",
   "metadata": {},
   "outputs": [],
   "source": []
  }
 ],
 "metadata": {
  "kernelspec": {
   "display_name": "Python 3",
   "language": "python",
   "name": "python3"
  },
  "language_info": {
   "codemirror_mode": {
    "name": "ipython",
    "version": 3
   },
   "file_extension": ".py",
   "mimetype": "text/x-python",
   "name": "python",
   "nbconvert_exporter": "python",
   "pygments_lexer": "ipython3",
   "version": "3.8.10"
  }
 },
 "nbformat": 4,
 "nbformat_minor": 5
}
